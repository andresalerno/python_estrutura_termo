{
 "cells": [
  {
   "attachments": {},
   "cell_type": "markdown",
   "metadata": {},
   "source": [
    "# Python para Investimentos\n",
    "## Estrutura a Termo da Taxa de Juros em Python\n",
    "\n",
    "A estrutura temporal das taxas de juros, de forma mais simples, tem por objetivo expressar a relação entre a taxa de juros e o prazo (maturidade) do investimento. Em outras palavras, a ETTJ revela o comportamento das taxas de juros ao longo do tempo, informação de extrema relevância para os profissionais do mercado financeiro.\n",
    "\n",
    "A curva de rendimento descrita no gráfico visualiza o comportamento da estrutura a prazo dos juros a cada intervalo de tempo selecionado, ou seja, os juros para diferentes intervalos de vencimentos."
   ]
  },
  {
   "attachments": {},
   "cell_type": "markdown",
   "metadata": {},
   "source": [
    "No Brasil, a ETTJ é geralmente elaborada a partir de títulos prefixados (LTNs), contratos futuros de taxas DI e taxas swaps DI = pré. Participam da formação da estrutura a termo juros prefixados e livres de risco.\n",
    "\n",
    "Entre outras importantes aplicações, a ETTJ permite projetar as taxas de juros na economia. As taxas de longo prazo são formadas a partir de médias das taxas de curto prazo. Por ser formada por taxas prefixadas livres de risco, a ETTJ tem grande influência nas diversas operações do mercado financeiro que atuam com taxas prefixadas."
   ]
  },
  {
   "attachments": {},
   "cell_type": "markdown",
   "metadata": {},
   "source": [
    "É possível capturar dados da ETTJ por meio do site da B3, o qual disponibiliza diversas curvas. A principal seção terá como objetivo ensinar a importar os dados direto para o Python utilizando a biblioteca pyettj. Para mais informações sobre como são criado as curvas, bem como quais a B3 disponbiliza, veja o documento de [Manual de Curvas da B3](https://www.b3.com.br/data/files/71/64/FB/58/A2A8F6109A4874F6AC094EA8/Manual_de_Curvas.pdf)."
   ]
  },
  {
   "cell_type": "code",
   "execution_count": 67,
   "metadata": {},
   "outputs": [
    {
     "name": "stdout",
     "output_type": "stream",
     "text": [
      "Requirement already satisfied: pyettj in c:\\users\\dell\\appdata\\local\\programs\\python\\python310\\lib\\site-packages (0.2.4)\n",
      "Requirement already satisfied: requests<3.0.0,>=2.25.1 in c:\\users\\dell\\appdata\\local\\programs\\python\\python310\\lib\\site-packages (from pyettj) (2.28.1)\n",
      "Requirement already satisfied: matplotlib<4.0.0,>=3.4.2 in c:\\users\\dell\\appdata\\local\\programs\\python\\python310\\lib\\site-packages (from pyettj) (3.6.2)\n",
      "Requirement already satisfied: pandas<2.0.0,>=1.2.4 in c:\\users\\dell\\appdata\\local\\programs\\python\\python310\\lib\\site-packages (from pyettj) (1.5.2)\n",
      "Requirement already satisfied: beautifulsoup4<5.0.0,>=4.9.3 in c:\\users\\dell\\appdata\\local\\programs\\python\\python310\\lib\\site-packages (from pyettj) (4.11.1)\n",
      "Requirement already satisfied: lxml<5.0.0,>=4.6.3 in c:\\users\\dell\\appdata\\local\\programs\\python\\python310\\lib\\site-packages (from pyettj) (4.9.2)\n",
      "Requirement already satisfied: soupsieve>1.2 in c:\\users\\dell\\appdata\\local\\programs\\python\\python310\\lib\\site-packages (from beautifulsoup4<5.0.0,>=4.9.3->pyettj) (2.3.2.post1)\n",
      "Requirement already satisfied: pyparsing>=2.2.1 in c:\\users\\dell\\appdata\\local\\programs\\python\\python310\\lib\\site-packages (from matplotlib<4.0.0,>=3.4.2->pyettj) (3.0.9)\n",
      "Requirement already satisfied: pillow>=6.2.0 in c:\\users\\dell\\appdata\\local\\programs\\python\\python310\\lib\\site-packages (from matplotlib<4.0.0,>=3.4.2->pyettj) (9.3.0)\n",
      "Requirement already satisfied: python-dateutil>=2.7 in c:\\users\\dell\\appdata\\local\\programs\\python\\python310\\lib\\site-packages (from matplotlib<4.0.0,>=3.4.2->pyettj) (2.8.2)\n",
      "Requirement already satisfied: contourpy>=1.0.1 in c:\\users\\dell\\appdata\\local\\programs\\python\\python310\\lib\\site-packages (from matplotlib<4.0.0,>=3.4.2->pyettj) (1.0.6)\n",
      "Requirement already satisfied: fonttools>=4.22.0 in c:\\users\\dell\\appdata\\local\\programs\\python\\python310\\lib\\site-packages (from matplotlib<4.0.0,>=3.4.2->pyettj) (4.38.0)\n",
      "Requirement already satisfied: packaging>=20.0 in c:\\users\\dell\\appdata\\local\\programs\\python\\python310\\lib\\site-packages (from matplotlib<4.0.0,>=3.4.2->pyettj) (22.0)\n",
      "Requirement already satisfied: numpy>=1.19 in c:\\users\\dell\\appdata\\local\\programs\\python\\python310\\lib\\site-packages (from matplotlib<4.0.0,>=3.4.2->pyettj) (1.23.5)\n",
      "Requirement already satisfied: cycler>=0.10 in c:\\users\\dell\\appdata\\local\\programs\\python\\python310\\lib\\site-packages (from matplotlib<4.0.0,>=3.4.2->pyettj) (0.11.0)\n",
      "Requirement already satisfied: kiwisolver>=1.0.1 in c:\\users\\dell\\appdata\\local\\programs\\python\\python310\\lib\\site-packages (from matplotlib<4.0.0,>=3.4.2->pyettj) (1.4.4)\n",
      "Requirement already satisfied: pytz>=2020.1 in c:\\users\\dell\\appdata\\local\\programs\\python\\python310\\lib\\site-packages (from pandas<2.0.0,>=1.2.4->pyettj) (2022.6)\n",
      "Requirement already satisfied: charset-normalizer<3,>=2 in c:\\users\\dell\\appdata\\local\\programs\\python\\python310\\lib\\site-packages (from requests<3.0.0,>=2.25.1->pyettj) (2.1.1)\n",
      "Requirement already satisfied: urllib3<1.27,>=1.21.1 in c:\\users\\dell\\appdata\\local\\programs\\python\\python310\\lib\\site-packages (from requests<3.0.0,>=2.25.1->pyettj) (1.26.13)\n",
      "Requirement already satisfied: certifi>=2017.4.17 in c:\\users\\dell\\appdata\\local\\programs\\python\\python310\\lib\\site-packages (from requests<3.0.0,>=2.25.1->pyettj) (2022.12.7)\n",
      "Requirement already satisfied: idna<4,>=2.5 in c:\\users\\dell\\appdata\\local\\programs\\python\\python310\\lib\\site-packages (from requests<3.0.0,>=2.25.1->pyettj) (3.4)\n",
      "Requirement already satisfied: six>=1.5 in c:\\users\\dell\\appdata\\local\\programs\\python\\python310\\lib\\site-packages (from python-dateutil>=2.7->matplotlib<4.0.0,>=3.4.2->pyettj) (1.16.0)\n",
      "Requirement already satisfied: bizdays in c:\\users\\dell\\appdata\\local\\programs\\python\\python310\\lib\\site-packages (1.0.6)\n",
      "Requirement already satisfied: plotly in c:\\users\\dell\\appdata\\local\\programs\\python\\python310\\lib\\site-packages (5.11.0)\n",
      "Requirement already satisfied: tenacity>=6.2.0 in c:\\users\\dell\\appdata\\local\\programs\\python\\python310\\lib\\site-packages (from plotly) (8.1.0)\n"
     ]
    }
   ],
   "source": [
    "# Instala e importa as bibliotecas\n",
    "!pip install pyettj\n",
    "!pip install bizdays\n",
    "!pip install plotly\n",
    "\n",
    "from pyettj import ettj\n",
    "import pandas as pd\n",
    "import plotly.express as px"
   ]
  },
  {
   "cell_type": "code",
   "execution_count": 84,
   "metadata": {},
   "outputs": [
    {
     "name": "stdout",
     "output_type": "stream",
     "text": [
      "Curva capturada em 0.48 segundos.\n"
     ]
    }
   ],
   "source": [
    "# Indica o dia útil do ano que deseja capturar\n",
    "data_2023 = '13/01/2023'\n",
    "\n",
    "# Importa a série com get_ettj\n",
    "ettj_2023 = ettj.get_ettj(data_2023, \"PRE\")"
   ]
  },
  {
   "cell_type": "code",
   "execution_count": 85,
   "metadata": {},
   "outputs": [
    {
     "data": {
      "text/html": [
       "<div>\n",
       "<style scoped>\n",
       "    .dataframe tbody tr th:only-of-type {\n",
       "        vertical-align: middle;\n",
       "    }\n",
       "\n",
       "    .dataframe tbody tr th {\n",
       "        vertical-align: top;\n",
       "    }\n",
       "\n",
       "    .dataframe thead th {\n",
       "        text-align: right;\n",
       "    }\n",
       "</style>\n",
       "<table border=\"1\" class=\"dataframe\">\n",
       "  <thead>\n",
       "    <tr style=\"text-align: right;\">\n",
       "      <th></th>\n",
       "      <th>Dias Corridos</th>\n",
       "      <th>DI x pré 252(2)(4)</th>\n",
       "      <th>DI x pré 360(1)</th>\n",
       "    </tr>\n",
       "  </thead>\n",
       "  <tbody>\n",
       "    <tr>\n",
       "      <th>0</th>\n",
       "      <td>3</td>\n",
       "      <td>13.65000</td>\n",
       "      <td>0.00000</td>\n",
       "    </tr>\n",
       "    <tr>\n",
       "      <th>1</th>\n",
       "      <td>5</td>\n",
       "      <td>13.65000</td>\n",
       "      <td>11.59000</td>\n",
       "    </tr>\n",
       "    <tr>\n",
       "      <th>2</th>\n",
       "      <td>7</td>\n",
       "      <td>13.65000</td>\n",
       "      <td>13.95000</td>\n",
       "    </tr>\n",
       "    <tr>\n",
       "      <th>3</th>\n",
       "      <td>14</td>\n",
       "      <td>13.66000</td>\n",
       "      <td>13.95000</td>\n",
       "    </tr>\n",
       "    <tr>\n",
       "      <th>4</th>\n",
       "      <td>17</td>\n",
       "      <td>13.66000</td>\n",
       "      <td>12.56000</td>\n",
       "    </tr>\n",
       "    <tr>\n",
       "      <th>...</th>\n",
       "      <td>...</td>\n",
       "      <td>...</td>\n",
       "      <td>...</td>\n",
       "    </tr>\n",
       "    <tr>\n",
       "      <th>258</th>\n",
       "      <td>9895</td>\n",
       "      <td>12.39000</td>\n",
       "      <td>12.15000</td>\n",
       "    </tr>\n",
       "    <tr>\n",
       "      <th>259</th>\n",
       "      <td>10076</td>\n",
       "      <td>12.39000</td>\n",
       "      <td>12.15000</td>\n",
       "    </tr>\n",
       "    <tr>\n",
       "      <th>260</th>\n",
       "      <td>10800</td>\n",
       "      <td>12.39000</td>\n",
       "      <td>12.15000</td>\n",
       "    </tr>\n",
       "    <tr>\n",
       "      <th>261</th>\n",
       "      <td>11812</td>\n",
       "      <td>12.39000</td>\n",
       "      <td>12.15000</td>\n",
       "    </tr>\n",
       "    <tr>\n",
       "      <th>262</th>\n",
       "      <td>13730</td>\n",
       "      <td>12.39000</td>\n",
       "      <td>12.15000</td>\n",
       "    </tr>\n",
       "  </tbody>\n",
       "</table>\n",
       "<p>263 rows × 3 columns</p>\n",
       "</div>"
      ],
      "text/plain": [
       "     Dias Corridos  DI x pré 252(2)(4)  DI x pré 360(1)\n",
       "0                3            13.65000          0.00000\n",
       "1                5            13.65000         11.59000\n",
       "2                7            13.65000         13.95000\n",
       "3               14            13.66000         13.95000\n",
       "4               17            13.66000         12.56000\n",
       "..             ...                 ...              ...\n",
       "258           9895            12.39000         12.15000\n",
       "259          10076            12.39000         12.15000\n",
       "260          10800            12.39000         12.15000\n",
       "261          11812            12.39000         12.15000\n",
       "262          13730            12.39000         12.15000\n",
       "\n",
       "[263 rows x 3 columns]"
      ]
     },
     "execution_count": 85,
     "metadata": {},
     "output_type": "execute_result"
    }
   ],
   "source": [
    "ettj_2023"
   ]
  },
  {
   "cell_type": "code",
   "execution_count": 88,
   "metadata": {},
   "outputs": [
    {
     "data": {
      "application/vnd.plotly.v1+json": {
       "config": {
        "plotlyServerURL": "https://plot.ly"
       },
       "data": [
        {
         "hovertemplate": "Dias Corridos=%{x}<br>DI x pré 252(2)(4)=%{y}<extra></extra>",
         "legendgroup": "",
         "line": {
          "color": "#636efa",
          "dash": "solid"
         },
         "marker": {
          "symbol": "circle"
         },
         "mode": "lines",
         "name": "",
         "orientation": "v",
         "showlegend": false,
         "type": "scatter",
         "x": [
          3,
          5,
          7,
          14,
          17,
          18,
          19,
          21,
          31,
          33,
          34,
          35,
          45,
          46,
          47,
          56,
          60,
          61,
          62,
          63,
          69,
          77,
          80,
          89,
          90,
          94,
          97,
          104,
          105,
          109,
          122,
          130,
          138,
          139,
          147,
          150,
          152,
          153,
          154,
          167,
          168,
          171,
          180,
          185,
          189,
          196,
          199,
          200,
          210,
          214,
          215,
          229,
          230,
          231,
          241,
          245,
          251,
          259,
          262,
          270,
          276,
          278,
          290,
          291,
          292,
          300,
          307,
          321,
          322,
          332,
          334,
          335,
          340,
          348,
          349,
          354,
          360,
          367,
          390,
          397,
          398,
          399,
          420,
          425,
          432,
          444,
          451,
          458,
          460,
          472,
          480,
          488,
          495,
          510,
          516,
          535,
          542,
          570,
          579,
          580,
          600,
          612,
          627,
          630,
          636,
          642,
          661,
          675,
          690,
          705,
          720,
          752,
          766,
          782,
          809,
          810,
          840,
          853,
          871,
          900,
          930,
          945,
          962,
          990,
          992,
          1020,
          1039,
          1050,
          1081,
          1085,
          1110,
          1132,
          1140,
          1172,
          1174,
          1200,
          1218,
          1265,
          1312,
          1357,
          1403,
          1440,
          1452,
          1494,
          1539,
          1585,
          1630,
          1676,
          1722,
          1768,
          1802,
          1816,
          1859,
          1949,
          1998,
          2041,
          2134,
          2160,
          2181,
          2225,
          2314,
          2362,
          2392,
          2406,
          2499,
          2520,
          2546,
          2590,
          2635,
          2679,
          2726,
          2771,
          2866,
          2880,
          2911,
          2957,
          3044,
          3136,
          3230,
          3240,
          3276,
          3321,
          3412,
          3503,
          3595,
          3601,
          3643,
          3686,
          3776,
          3867,
          3960,
          4007,
          4051,
          4140,
          4232,
          4322,
          4325,
          4372,
          4416,
          4505,
          4597,
          4680,
          4690,
          4737,
          4781,
          4871,
          4963,
          5040,
          5057,
          5103,
          5150,
          5236,
          5330,
          5400,
          5421,
          5470,
          5512,
          5582,
          5603,
          5694,
          5786,
          5877,
          5967,
          6058,
          6151,
          6242,
          6332,
          6424,
          6517,
          6608,
          6697,
          6789,
          6884,
          6977,
          7062,
          7154,
          7200,
          7248,
          7339,
          7427,
          7521,
          7612,
          7703,
          7794,
          7885,
          7978,
          8069,
          8158,
          8250,
          8434,
          8615,
          8799,
          8980,
          9000,
          9168,
          9348,
          9530,
          9712,
          9895,
          10076,
          10800,
          11812,
          13730
         ],
         "xaxis": "x",
         "y": [
          13.65,
          13.65,
          13.65,
          13.66,
          13.66,
          13.66,
          13.66,
          13.66,
          13.66,
          13.66,
          13.66,
          13.66,
          13.66,
          13.66,
          13.66,
          13.67,
          13.67,
          13.67,
          13.67,
          13.67,
          13.68,
          13.68,
          13.68,
          13.69,
          13.69,
          13.69,
          13.69,
          13.69,
          13.69,
          13.69,
          13.7,
          13.7,
          13.7,
          13.7,
          13.7,
          13.7,
          13.7,
          13.7,
          13.7,
          13.7,
          13.7,
          13.7,
          13.7,
          13.71,
          13.71,
          13.71,
          13.71,
          13.71,
          13.7,
          13.69,
          13.69,
          13.67,
          13.67,
          13.67,
          13.66,
          13.65,
          13.64,
          13.63,
          13.63,
          13.62,
          13.62,
          13.62,
          13.61,
          13.61,
          13.61,
          13.58,
          13.57,
          13.53,
          13.52,
          13.5,
          13.49,
          13.48,
          13.47,
          13.45,
          13.45,
          13.44,
          13.42,
          13.4,
          13.33,
          13.32,
          13.31,
          13.31,
          13.25,
          13.24,
          13.23,
          13.2,
          13.18,
          13.15,
          13.14,
          13.1,
          13.07,
          13.04,
          13.02,
          12.98,
          12.96,
          12.91,
          12.88,
          12.79,
          12.76,
          12.76,
          12.7,
          12.67,
          12.63,
          12.62,
          12.6,
          12.59,
          12.54,
          12.51,
          12.47,
          12.44,
          12.41,
          12.38,
          12.36,
          12.35,
          12.32,
          12.32,
          12.3,
          12.29,
          12.28,
          12.26,
          12.26,
          12.26,
          12.26,
          12.26,
          12.26,
          12.25,
          12.24,
          12.24,
          12.23,
          12.23,
          12.23,
          12.22,
          12.22,
          12.22,
          12.22,
          12.22,
          12.23,
          12.24,
          12.22,
          12.21,
          12.21,
          12.2,
          12.2,
          12.2,
          12.2,
          12.21,
          12.21,
          12.21,
          12.21,
          12.22,
          12.22,
          12.22,
          12.23,
          12.25,
          12.27,
          12.27,
          12.29,
          12.3,
          12.3,
          12.31,
          12.31,
          12.31,
          12.32,
          12.32,
          12.32,
          12.32,
          12.32,
          12.33,
          12.33,
          12.33,
          12.34,
          12.34,
          12.34,
          12.35,
          12.35,
          12.34,
          12.34,
          12.34,
          12.33,
          12.33,
          12.33,
          12.33,
          12.34,
          12.34,
          12.35,
          12.35,
          12.35,
          12.35,
          12.35,
          12.34,
          12.33,
          12.33,
          12.33,
          12.33,
          12.34,
          12.34,
          12.34,
          12.34,
          12.34,
          12.35,
          12.36,
          12.37,
          12.37,
          12.38,
          12.38,
          12.38,
          12.38,
          12.38,
          12.38,
          12.39,
          12.39,
          12.39,
          12.39,
          12.39,
          12.39,
          12.39,
          12.39,
          12.39,
          12.39,
          12.39,
          12.39,
          12.39,
          12.39,
          12.39,
          12.39,
          12.39,
          12.39,
          12.39,
          12.39,
          12.39,
          12.39,
          12.39,
          12.39,
          12.39,
          12.39,
          12.39,
          12.39,
          12.39,
          12.39,
          12.39,
          12.39,
          12.39,
          12.39,
          12.39,
          12.39,
          12.39,
          12.39,
          12.39,
          12.39,
          12.39,
          12.39,
          12.39,
          12.39,
          12.39,
          12.39,
          12.39,
          12.39,
          12.39,
          12.39,
          12.39,
          12.39,
          12.39,
          12.39
         ],
         "yaxis": "y"
        }
       ],
       "layout": {
        "legend": {
         "tracegroupgap": 0
        },
        "margin": {
         "t": 60
        },
        "template": {
         "data": {
          "bar": [
           {
            "error_x": {
             "color": "#2a3f5f"
            },
            "error_y": {
             "color": "#2a3f5f"
            },
            "marker": {
             "line": {
              "color": "#E5ECF6",
              "width": 0.5
             },
             "pattern": {
              "fillmode": "overlay",
              "size": 10,
              "solidity": 0.2
             }
            },
            "type": "bar"
           }
          ],
          "barpolar": [
           {
            "marker": {
             "line": {
              "color": "#E5ECF6",
              "width": 0.5
             },
             "pattern": {
              "fillmode": "overlay",
              "size": 10,
              "solidity": 0.2
             }
            },
            "type": "barpolar"
           }
          ],
          "carpet": [
           {
            "aaxis": {
             "endlinecolor": "#2a3f5f",
             "gridcolor": "white",
             "linecolor": "white",
             "minorgridcolor": "white",
             "startlinecolor": "#2a3f5f"
            },
            "baxis": {
             "endlinecolor": "#2a3f5f",
             "gridcolor": "white",
             "linecolor": "white",
             "minorgridcolor": "white",
             "startlinecolor": "#2a3f5f"
            },
            "type": "carpet"
           }
          ],
          "choropleth": [
           {
            "colorbar": {
             "outlinewidth": 0,
             "ticks": ""
            },
            "type": "choropleth"
           }
          ],
          "contour": [
           {
            "colorbar": {
             "outlinewidth": 0,
             "ticks": ""
            },
            "colorscale": [
             [
              0,
              "#0d0887"
             ],
             [
              0.1111111111111111,
              "#46039f"
             ],
             [
              0.2222222222222222,
              "#7201a8"
             ],
             [
              0.3333333333333333,
              "#9c179e"
             ],
             [
              0.4444444444444444,
              "#bd3786"
             ],
             [
              0.5555555555555556,
              "#d8576b"
             ],
             [
              0.6666666666666666,
              "#ed7953"
             ],
             [
              0.7777777777777778,
              "#fb9f3a"
             ],
             [
              0.8888888888888888,
              "#fdca26"
             ],
             [
              1,
              "#f0f921"
             ]
            ],
            "type": "contour"
           }
          ],
          "contourcarpet": [
           {
            "colorbar": {
             "outlinewidth": 0,
             "ticks": ""
            },
            "type": "contourcarpet"
           }
          ],
          "heatmap": [
           {
            "colorbar": {
             "outlinewidth": 0,
             "ticks": ""
            },
            "colorscale": [
             [
              0,
              "#0d0887"
             ],
             [
              0.1111111111111111,
              "#46039f"
             ],
             [
              0.2222222222222222,
              "#7201a8"
             ],
             [
              0.3333333333333333,
              "#9c179e"
             ],
             [
              0.4444444444444444,
              "#bd3786"
             ],
             [
              0.5555555555555556,
              "#d8576b"
             ],
             [
              0.6666666666666666,
              "#ed7953"
             ],
             [
              0.7777777777777778,
              "#fb9f3a"
             ],
             [
              0.8888888888888888,
              "#fdca26"
             ],
             [
              1,
              "#f0f921"
             ]
            ],
            "type": "heatmap"
           }
          ],
          "heatmapgl": [
           {
            "colorbar": {
             "outlinewidth": 0,
             "ticks": ""
            },
            "colorscale": [
             [
              0,
              "#0d0887"
             ],
             [
              0.1111111111111111,
              "#46039f"
             ],
             [
              0.2222222222222222,
              "#7201a8"
             ],
             [
              0.3333333333333333,
              "#9c179e"
             ],
             [
              0.4444444444444444,
              "#bd3786"
             ],
             [
              0.5555555555555556,
              "#d8576b"
             ],
             [
              0.6666666666666666,
              "#ed7953"
             ],
             [
              0.7777777777777778,
              "#fb9f3a"
             ],
             [
              0.8888888888888888,
              "#fdca26"
             ],
             [
              1,
              "#f0f921"
             ]
            ],
            "type": "heatmapgl"
           }
          ],
          "histogram": [
           {
            "marker": {
             "pattern": {
              "fillmode": "overlay",
              "size": 10,
              "solidity": 0.2
             }
            },
            "type": "histogram"
           }
          ],
          "histogram2d": [
           {
            "colorbar": {
             "outlinewidth": 0,
             "ticks": ""
            },
            "colorscale": [
             [
              0,
              "#0d0887"
             ],
             [
              0.1111111111111111,
              "#46039f"
             ],
             [
              0.2222222222222222,
              "#7201a8"
             ],
             [
              0.3333333333333333,
              "#9c179e"
             ],
             [
              0.4444444444444444,
              "#bd3786"
             ],
             [
              0.5555555555555556,
              "#d8576b"
             ],
             [
              0.6666666666666666,
              "#ed7953"
             ],
             [
              0.7777777777777778,
              "#fb9f3a"
             ],
             [
              0.8888888888888888,
              "#fdca26"
             ],
             [
              1,
              "#f0f921"
             ]
            ],
            "type": "histogram2d"
           }
          ],
          "histogram2dcontour": [
           {
            "colorbar": {
             "outlinewidth": 0,
             "ticks": ""
            },
            "colorscale": [
             [
              0,
              "#0d0887"
             ],
             [
              0.1111111111111111,
              "#46039f"
             ],
             [
              0.2222222222222222,
              "#7201a8"
             ],
             [
              0.3333333333333333,
              "#9c179e"
             ],
             [
              0.4444444444444444,
              "#bd3786"
             ],
             [
              0.5555555555555556,
              "#d8576b"
             ],
             [
              0.6666666666666666,
              "#ed7953"
             ],
             [
              0.7777777777777778,
              "#fb9f3a"
             ],
             [
              0.8888888888888888,
              "#fdca26"
             ],
             [
              1,
              "#f0f921"
             ]
            ],
            "type": "histogram2dcontour"
           }
          ],
          "mesh3d": [
           {
            "colorbar": {
             "outlinewidth": 0,
             "ticks": ""
            },
            "type": "mesh3d"
           }
          ],
          "parcoords": [
           {
            "line": {
             "colorbar": {
              "outlinewidth": 0,
              "ticks": ""
             }
            },
            "type": "parcoords"
           }
          ],
          "pie": [
           {
            "automargin": true,
            "type": "pie"
           }
          ],
          "scatter": [
           {
            "fillpattern": {
             "fillmode": "overlay",
             "size": 10,
             "solidity": 0.2
            },
            "type": "scatter"
           }
          ],
          "scatter3d": [
           {
            "line": {
             "colorbar": {
              "outlinewidth": 0,
              "ticks": ""
             }
            },
            "marker": {
             "colorbar": {
              "outlinewidth": 0,
              "ticks": ""
             }
            },
            "type": "scatter3d"
           }
          ],
          "scattercarpet": [
           {
            "marker": {
             "colorbar": {
              "outlinewidth": 0,
              "ticks": ""
             }
            },
            "type": "scattercarpet"
           }
          ],
          "scattergeo": [
           {
            "marker": {
             "colorbar": {
              "outlinewidth": 0,
              "ticks": ""
             }
            },
            "type": "scattergeo"
           }
          ],
          "scattergl": [
           {
            "marker": {
             "colorbar": {
              "outlinewidth": 0,
              "ticks": ""
             }
            },
            "type": "scattergl"
           }
          ],
          "scattermapbox": [
           {
            "marker": {
             "colorbar": {
              "outlinewidth": 0,
              "ticks": ""
             }
            },
            "type": "scattermapbox"
           }
          ],
          "scatterpolar": [
           {
            "marker": {
             "colorbar": {
              "outlinewidth": 0,
              "ticks": ""
             }
            },
            "type": "scatterpolar"
           }
          ],
          "scatterpolargl": [
           {
            "marker": {
             "colorbar": {
              "outlinewidth": 0,
              "ticks": ""
             }
            },
            "type": "scatterpolargl"
           }
          ],
          "scatterternary": [
           {
            "marker": {
             "colorbar": {
              "outlinewidth": 0,
              "ticks": ""
             }
            },
            "type": "scatterternary"
           }
          ],
          "surface": [
           {
            "colorbar": {
             "outlinewidth": 0,
             "ticks": ""
            },
            "colorscale": [
             [
              0,
              "#0d0887"
             ],
             [
              0.1111111111111111,
              "#46039f"
             ],
             [
              0.2222222222222222,
              "#7201a8"
             ],
             [
              0.3333333333333333,
              "#9c179e"
             ],
             [
              0.4444444444444444,
              "#bd3786"
             ],
             [
              0.5555555555555556,
              "#d8576b"
             ],
             [
              0.6666666666666666,
              "#ed7953"
             ],
             [
              0.7777777777777778,
              "#fb9f3a"
             ],
             [
              0.8888888888888888,
              "#fdca26"
             ],
             [
              1,
              "#f0f921"
             ]
            ],
            "type": "surface"
           }
          ],
          "table": [
           {
            "cells": {
             "fill": {
              "color": "#EBF0F8"
             },
             "line": {
              "color": "white"
             }
            },
            "header": {
             "fill": {
              "color": "#C8D4E3"
             },
             "line": {
              "color": "white"
             }
            },
            "type": "table"
           }
          ]
         },
         "layout": {
          "annotationdefaults": {
           "arrowcolor": "#2a3f5f",
           "arrowhead": 0,
           "arrowwidth": 1
          },
          "autotypenumbers": "strict",
          "coloraxis": {
           "colorbar": {
            "outlinewidth": 0,
            "ticks": ""
           }
          },
          "colorscale": {
           "diverging": [
            [
             0,
             "#8e0152"
            ],
            [
             0.1,
             "#c51b7d"
            ],
            [
             0.2,
             "#de77ae"
            ],
            [
             0.3,
             "#f1b6da"
            ],
            [
             0.4,
             "#fde0ef"
            ],
            [
             0.5,
             "#f7f7f7"
            ],
            [
             0.6,
             "#e6f5d0"
            ],
            [
             0.7,
             "#b8e186"
            ],
            [
             0.8,
             "#7fbc41"
            ],
            [
             0.9,
             "#4d9221"
            ],
            [
             1,
             "#276419"
            ]
           ],
           "sequential": [
            [
             0,
             "#0d0887"
            ],
            [
             0.1111111111111111,
             "#46039f"
            ],
            [
             0.2222222222222222,
             "#7201a8"
            ],
            [
             0.3333333333333333,
             "#9c179e"
            ],
            [
             0.4444444444444444,
             "#bd3786"
            ],
            [
             0.5555555555555556,
             "#d8576b"
            ],
            [
             0.6666666666666666,
             "#ed7953"
            ],
            [
             0.7777777777777778,
             "#fb9f3a"
            ],
            [
             0.8888888888888888,
             "#fdca26"
            ],
            [
             1,
             "#f0f921"
            ]
           ],
           "sequentialminus": [
            [
             0,
             "#0d0887"
            ],
            [
             0.1111111111111111,
             "#46039f"
            ],
            [
             0.2222222222222222,
             "#7201a8"
            ],
            [
             0.3333333333333333,
             "#9c179e"
            ],
            [
             0.4444444444444444,
             "#bd3786"
            ],
            [
             0.5555555555555556,
             "#d8576b"
            ],
            [
             0.6666666666666666,
             "#ed7953"
            ],
            [
             0.7777777777777778,
             "#fb9f3a"
            ],
            [
             0.8888888888888888,
             "#fdca26"
            ],
            [
             1,
             "#f0f921"
            ]
           ]
          },
          "colorway": [
           "#636efa",
           "#EF553B",
           "#00cc96",
           "#ab63fa",
           "#FFA15A",
           "#19d3f3",
           "#FF6692",
           "#B6E880",
           "#FF97FF",
           "#FECB52"
          ],
          "font": {
           "color": "#2a3f5f"
          },
          "geo": {
           "bgcolor": "white",
           "lakecolor": "white",
           "landcolor": "#E5ECF6",
           "showlakes": true,
           "showland": true,
           "subunitcolor": "white"
          },
          "hoverlabel": {
           "align": "left"
          },
          "hovermode": "closest",
          "mapbox": {
           "style": "light"
          },
          "paper_bgcolor": "white",
          "plot_bgcolor": "#E5ECF6",
          "polar": {
           "angularaxis": {
            "gridcolor": "white",
            "linecolor": "white",
            "ticks": ""
           },
           "bgcolor": "#E5ECF6",
           "radialaxis": {
            "gridcolor": "white",
            "linecolor": "white",
            "ticks": ""
           }
          },
          "scene": {
           "xaxis": {
            "backgroundcolor": "#E5ECF6",
            "gridcolor": "white",
            "gridwidth": 2,
            "linecolor": "white",
            "showbackground": true,
            "ticks": "",
            "zerolinecolor": "white"
           },
           "yaxis": {
            "backgroundcolor": "#E5ECF6",
            "gridcolor": "white",
            "gridwidth": 2,
            "linecolor": "white",
            "showbackground": true,
            "ticks": "",
            "zerolinecolor": "white"
           },
           "zaxis": {
            "backgroundcolor": "#E5ECF6",
            "gridcolor": "white",
            "gridwidth": 2,
            "linecolor": "white",
            "showbackground": true,
            "ticks": "",
            "zerolinecolor": "white"
           }
          },
          "shapedefaults": {
           "line": {
            "color": "#2a3f5f"
           }
          },
          "ternary": {
           "aaxis": {
            "gridcolor": "white",
            "linecolor": "white",
            "ticks": ""
           },
           "baxis": {
            "gridcolor": "white",
            "linecolor": "white",
            "ticks": ""
           },
           "bgcolor": "#E5ECF6",
           "caxis": {
            "gridcolor": "white",
            "linecolor": "white",
            "ticks": ""
           }
          },
          "title": {
           "x": 0.05
          },
          "xaxis": {
           "automargin": true,
           "gridcolor": "white",
           "linecolor": "white",
           "ticks": "",
           "title": {
            "standoff": 15
           },
           "zerolinecolor": "white",
           "zerolinewidth": 2
          },
          "yaxis": {
           "automargin": true,
           "gridcolor": "white",
           "linecolor": "white",
           "ticks": "",
           "title": {
            "standoff": 15
           },
           "zerolinecolor": "white",
           "zerolinewidth": 2
          }
         }
        },
        "xaxis": {
         "anchor": "y",
         "domain": [
          0,
          1
         ],
         "title": {
          "text": "Dias Corridos"
         }
        },
        "yaxis": {
         "anchor": "x",
         "domain": [
          0,
          1
         ],
         "title": {
          "text": "DI x pré 252(2)(4)"
         }
        }
       }
      }
     },
     "metadata": {},
     "output_type": "display_data"
    }
   ],
   "source": [
    "# Plota a curva\n",
    "px.line(ettj_2023, x = 'Dias Corridos', y = 'DI x pré 252(2)(4)')"
   ]
  },
  {
   "cell_type": "code",
   "execution_count": 80,
   "metadata": {},
   "outputs": [
    {
     "name": "stdout",
     "output_type": "stream",
     "text": [
      "Curvas capturadas em 3.07 segundos.\n",
      "Curvas capturadas em 3.42 segundos.\n",
      "Curvas capturadas em 2.96 segundos.\n",
      "Curvas capturadas em 3.29 segundos.\n"
     ]
    }
   ],
   "source": [
    "## Buscar mais de uma série\n",
    "# Define as datas dos dias úteis\n",
    "date = ['13/01/2020', '13/01/2021','13/01/2022', '13/01/2023']\n",
    "\n",
    "# Loop para buscar as curvas\n",
    "df_curves = pd.DataFrame()\n",
    "for i in date:\n",
    "    all_curves = ettj.get_ettj(i)\n",
    "    df_curves = df_curves.append(all_curves)"
   ]
  },
  {
   "cell_type": "code",
   "execution_count": 61,
   "metadata": {},
   "outputs": [
    {
     "data": {
      "text/html": [
       "<div>\n",
       "<style scoped>\n",
       "    .dataframe tbody tr th:only-of-type {\n",
       "        vertical-align: middle;\n",
       "    }\n",
       "\n",
       "    .dataframe tbody tr th {\n",
       "        vertical-align: top;\n",
       "    }\n",
       "\n",
       "    .dataframe thead th {\n",
       "        text-align: right;\n",
       "    }\n",
       "</style>\n",
       "<table border=\"1\" class=\"dataframe\">\n",
       "  <thead>\n",
       "    <tr style=\"text-align: right;\">\n",
       "      <th></th>\n",
       "      <th>Dias Corridos</th>\n",
       "      <th>DI x pré 252</th>\n",
       "      <th>DI x pré 360</th>\n",
       "      <th>Selic x pré 252</th>\n",
       "      <th>DI x TR 252</th>\n",
       "      <th>...</th>\n",
       "      <th>Spread Libor Euro x DÃ³lar taxa</th>\n",
       "      <th>Libor 360</th>\n",
       "      <th>Data</th>\n",
       "      <th>Real x iene preço</th>\n",
       "      <th>Spread Libor Euro x Dólar taxa</th>\n",
       "    </tr>\n",
       "  </thead>\n",
       "  <tbody>\n",
       "    <tr>\n",
       "      <th>0</th>\n",
       "      <td>1</td>\n",
       "      <td>4.40000</td>\n",
       "      <td>0.00000</td>\n",
       "      <td>4.40000</td>\n",
       "      <td>4.39000</td>\n",
       "      <td>...</td>\n",
       "      <td>-2.14000</td>\n",
       "      <td>1.67600</td>\n",
       "      <td>13/01/2020</td>\n",
       "      <td>NaN</td>\n",
       "      <td>NaN</td>\n",
       "    </tr>\n",
       "    <tr>\n",
       "      <th>0</th>\n",
       "      <td>2</td>\n",
       "      <td>4.40000</td>\n",
       "      <td>6.35000</td>\n",
       "      <td>4.40000</td>\n",
       "      <td>4.39000</td>\n",
       "      <td>...</td>\n",
       "      <td>-2.14000</td>\n",
       "      <td>1.67600</td>\n",
       "      <td>13/01/2020</td>\n",
       "      <td>NaN</td>\n",
       "      <td>NaN</td>\n",
       "    </tr>\n",
       "    <tr>\n",
       "      <th>0</th>\n",
       "      <td>7</td>\n",
       "      <td>4.40000</td>\n",
       "      <td>4.50000</td>\n",
       "      <td>4.40000</td>\n",
       "      <td>4.39000</td>\n",
       "      <td>...</td>\n",
       "      <td>-2.14000</td>\n",
       "      <td>1.67600</td>\n",
       "      <td>13/01/2020</td>\n",
       "      <td>NaN</td>\n",
       "      <td>NaN</td>\n",
       "    </tr>\n",
       "    <tr>\n",
       "      <th>0</th>\n",
       "      <td>8</td>\n",
       "      <td>4.40000</td>\n",
       "      <td>4.73000</td>\n",
       "      <td>4.40000</td>\n",
       "      <td>4.39000</td>\n",
       "      <td>...</td>\n",
       "      <td>-2.14000</td>\n",
       "      <td>1.67600</td>\n",
       "      <td>13/01/2020</td>\n",
       "      <td>NaN</td>\n",
       "      <td>NaN</td>\n",
       "    </tr>\n",
       "    <tr>\n",
       "      <th>0</th>\n",
       "      <td>14</td>\n",
       "      <td>4.41000</td>\n",
       "      <td>4.50000</td>\n",
       "      <td>4.41000</td>\n",
       "      <td>4.40000</td>\n",
       "      <td>...</td>\n",
       "      <td>-2.14000</td>\n",
       "      <td>1.67600</td>\n",
       "      <td>13/01/2020</td>\n",
       "      <td>NaN</td>\n",
       "      <td>NaN</td>\n",
       "    </tr>\n",
       "    <tr>\n",
       "      <th>...</th>\n",
       "      <td>...</td>\n",
       "      <td>...</td>\n",
       "      <td>...</td>\n",
       "      <td>...</td>\n",
       "      <td>...</td>\n",
       "      <td>...</td>\n",
       "      <td>...</td>\n",
       "      <td>...</td>\n",
       "      <td>...</td>\n",
       "      <td>...</td>\n",
       "      <td>...</td>\n",
       "    </tr>\n",
       "    <tr>\n",
       "      <th>0</th>\n",
       "      <td>9895</td>\n",
       "      <td>12.39000</td>\n",
       "      <td>12.15000</td>\n",
       "      <td>12.39000</td>\n",
       "      <td>9.83000</td>\n",
       "      <td>...</td>\n",
       "      <td>NaN</td>\n",
       "      <td>3.42400</td>\n",
       "      <td>13/01/2023</td>\n",
       "      <td>0.74564</td>\n",
       "      <td>-0.77000</td>\n",
       "    </tr>\n",
       "    <tr>\n",
       "      <th>0</th>\n",
       "      <td>10076</td>\n",
       "      <td>12.39000</td>\n",
       "      <td>12.15000</td>\n",
       "      <td>12.39000</td>\n",
       "      <td>9.83000</td>\n",
       "      <td>...</td>\n",
       "      <td>NaN</td>\n",
       "      <td>3.42400</td>\n",
       "      <td>13/01/2023</td>\n",
       "      <td>0.79747</td>\n",
       "      <td>-0.77000</td>\n",
       "    </tr>\n",
       "    <tr>\n",
       "      <th>0</th>\n",
       "      <td>10800</td>\n",
       "      <td>12.39000</td>\n",
       "      <td>12.15000</td>\n",
       "      <td>12.39000</td>\n",
       "      <td>9.85000</td>\n",
       "      <td>...</td>\n",
       "      <td>NaN</td>\n",
       "      <td>3.42400</td>\n",
       "      <td>13/01/2023</td>\n",
       "      <td>1.05018</td>\n",
       "      <td>-0.77000</td>\n",
       "    </tr>\n",
       "    <tr>\n",
       "      <th>0</th>\n",
       "      <td>11812</td>\n",
       "      <td>12.39000</td>\n",
       "      <td>12.15000</td>\n",
       "      <td>12.39000</td>\n",
       "      <td>9.88000</td>\n",
       "      <td>...</td>\n",
       "      <td>NaN</td>\n",
       "      <td>3.42400</td>\n",
       "      <td>13/01/2023</td>\n",
       "      <td>1.58552</td>\n",
       "      <td>-0.77000</td>\n",
       "    </tr>\n",
       "    <tr>\n",
       "      <th>0</th>\n",
       "      <td>13730</td>\n",
       "      <td>12.39000</td>\n",
       "      <td>12.15000</td>\n",
       "      <td>12.39000</td>\n",
       "      <td>9.97000</td>\n",
       "      <td>...</td>\n",
       "      <td>NaN</td>\n",
       "      <td>3.42400</td>\n",
       "      <td>13/01/2023</td>\n",
       "      <td>3.95300</td>\n",
       "      <td>-0.77000</td>\n",
       "    </tr>\n",
       "  </tbody>\n",
       "</table>\n",
       "<p>1125 rows × 31 columns</p>\n",
       "</div>"
      ],
      "text/plain": [
       "    Dias Corridos  DI x pré 252  DI x pré 360  Selic x pré 252  DI x TR 252  ...  Spread Libor Euro x DÃ³lar taxa  Libor 360        Data  Real x iene preço  Spread Libor Euro x Dólar taxa\n",
       "0               1       4.40000       0.00000          4.40000      4.39000  ...                         -2.14000    1.67600  13/01/2020                NaN                             NaN\n",
       "0               2       4.40000       6.35000          4.40000      4.39000  ...                         -2.14000    1.67600  13/01/2020                NaN                             NaN\n",
       "0               7       4.40000       4.50000          4.40000      4.39000  ...                         -2.14000    1.67600  13/01/2020                NaN                             NaN\n",
       "0               8       4.40000       4.73000          4.40000      4.39000  ...                         -2.14000    1.67600  13/01/2020                NaN                             NaN\n",
       "0              14       4.41000       4.50000          4.41000      4.40000  ...                         -2.14000    1.67600  13/01/2020                NaN                             NaN\n",
       "..            ...           ...           ...              ...          ...  ...                              ...        ...         ...                ...                             ...\n",
       "0            9895      12.39000      12.15000         12.39000      9.83000  ...                              NaN    3.42400  13/01/2023            0.74564                        -0.77000\n",
       "0           10076      12.39000      12.15000         12.39000      9.83000  ...                              NaN    3.42400  13/01/2023            0.79747                        -0.77000\n",
       "0           10800      12.39000      12.15000         12.39000      9.85000  ...                              NaN    3.42400  13/01/2023            1.05018                        -0.77000\n",
       "0           11812      12.39000      12.15000         12.39000      9.88000  ...                              NaN    3.42400  13/01/2023            1.58552                        -0.77000\n",
       "0           13730      12.39000      12.15000         12.39000      9.97000  ...                              NaN    3.42400  13/01/2023            3.95300                        -0.77000\n",
       "\n",
       "[1125 rows x 31 columns]"
      ]
     },
     "execution_count": 61,
     "metadata": {},
     "output_type": "execute_result"
    }
   ],
   "source": [
    "df_curves"
   ]
  },
  {
   "cell_type": "code",
   "execution_count": 81,
   "metadata": {},
   "outputs": [],
   "source": [
    "df_pre_curves = df_curves[['Dias Corridos', 'DI x pré 252', 'Data']]"
   ]
  },
  {
   "cell_type": "code",
   "execution_count": 82,
   "metadata": {},
   "outputs": [
    {
     "data": {
      "application/vnd.plotly.v1+json": {
       "config": {
        "plotlyServerURL": "https://plot.ly"
       },
       "data": [
        {
         "hovertemplate": "Data=13/01/2020<br>Dias Corridos=%{x}<br>DI x pré 252=%{y}<extra></extra>",
         "legendgroup": "13/01/2020",
         "line": {
          "color": "green",
          "dash": "solid"
         },
         "marker": {
          "symbol": "circle"
         },
         "mode": "lines",
         "name": "13/01/2020",
         "showlegend": true,
         "type": "scattergl",
         "x": [
          1,
          2,
          7,
          8,
          14,
          17,
          18,
          21,
          30,
          35,
          36,
          45,
          46,
          49,
          60,
          63,
          65,
          66,
          67,
          70,
          78,
          79,
          91,
          93,
          107,
          108,
          112,
          120,
          121,
          123,
          129,
          137,
          140,
          151,
          154,
          156,
          157,
          158,
          168,
          169,
          170,
          182,
          184,
          192,
          199,
          200,
          203,
          210,
          212,
          217,
          228,
          231,
          232,
          240,
          246,
          249,
          253,
          261,
          262,
          270,
          275,
          276,
          290,
          291,
          295,
          301,
          308,
          322,
          323,
          330,
          336,
          338,
          340,
          351,
          352,
          357,
          360,
          368,
          392,
          401,
          409,
          413,
          420,
          427,
          429,
          435,
          444,
          450,
          457,
          458,
          472,
          476,
          480,
          490,
          511,
          520,
          535,
          540,
          549,
          570,
          581,
          583,
          597,
          602,
          611,
          618,
          627,
          630,
          639,
          641,
          660,
          673,
          690,
          702,
          708,
          721,
          735,
          750,
          764,
          765,
          779,
          780,
          792,
          809,
          812,
          826,
          840,
          854,
          870,
          900,
          914,
          931,
          945,
          960,
          962,
          976,
          990,
          994,
          1008,
          1022,
          1038,
          1050,
          1080,
          1085,
          1099,
          1110,
          1129,
          1141,
          1143,
          1157,
          1170,
          1176,
          1190,
          1200,
          1218,
          1249,
          1267,
          1281,
          1310,
          1327,
          1358,
          1372,
          1403,
          1443,
          1450,
          1494,
          1540,
          1554,
          1584,
          1631,
          1676,
          1723,
          1732,
          1771,
          1800,
          1816,
          1862,
          1936,
          1949,
          1996,
          2041,
          2135,
          2160,
          2181,
          2228,
          2314,
          2361,
          2408,
          2499,
          2520,
          2548,
          2590,
          2681,
          2726,
          2772,
          2864,
          2880,
          2912,
          2955,
          3045,
          3094,
          3137,
          3230,
          3241,
          3277,
          3321,
          3410,
          3458,
          3488,
          3502,
          3595,
          3600,
          3642,
          3686,
          3731,
          3775,
          3822,
          3867,
          3962,
          4007,
          4053,
          4140,
          4232,
          4320,
          4326,
          4417,
          4508,
          4599,
          4680,
          4691,
          4782,
          4872,
          4963,
          5040,
          5056,
          5147,
          5236,
          5328,
          5400,
          5421,
          5512,
          5580,
          5601,
          5693,
          5786,
          5877,
          5967,
          6059,
          6153,
          6246,
          6332,
          6426,
          6517,
          6608,
          6699,
          6790,
          6882,
          6973,
          7063,
          7154,
          7200,
          7247,
          7338,
          7428,
          7520,
          7613,
          7704,
          7793,
          7885,
          7980,
          8073,
          8158,
          8250,
          8344,
          8435,
          8523,
          8617,
          8708,
          8799,
          8890,
          8981,
          9002,
          9074,
          9165,
          9254,
          9346,
          9530,
          9711,
          9895,
          10076,
          10264,
          10444,
          10626,
          10801,
          10808,
          10991,
          11172,
          12908
         ],
         "xaxis": "x",
         "y": [
          4.4,
          4.4,
          4.4,
          4.4,
          4.41,
          4.41,
          4.41,
          4.41,
          4.38,
          4.37,
          4.37,
          4.36,
          4.36,
          4.35,
          4.33,
          4.33,
          4.33,
          4.33,
          4.33,
          4.33,
          4.32,
          4.32,
          4.31,
          4.31,
          4.31,
          4.31,
          4.31,
          4.3,
          4.3,
          4.3,
          4.3,
          4.3,
          4.3,
          4.29,
          4.29,
          4.29,
          4.29,
          4.29,
          4.29,
          4.29,
          4.29,
          4.29,
          4.29,
          4.3,
          4.3,
          4.3,
          4.3,
          4.31,
          4.32,
          4.32,
          4.34,
          4.34,
          4.34,
          4.35,
          4.35,
          4.36,
          4.36,
          4.36,
          4.37,
          4.37,
          4.38,
          4.38,
          4.39,
          4.39,
          4.39,
          4.4,
          4.42,
          4.44,
          4.44,
          4.45,
          4.46,
          4.47,
          4.47,
          4.48,
          4.49,
          4.49,
          4.5,
          4.52,
          4.56,
          4.58,
          4.59,
          4.6,
          4.61,
          4.62,
          4.63,
          4.64,
          4.65,
          4.66,
          4.68,
          4.68,
          4.71,
          4.71,
          4.72,
          4.74,
          4.78,
          4.79,
          4.82,
          4.83,
          4.85,
          4.9,
          4.92,
          4.93,
          4.96,
          4.96,
          4.98,
          4.99,
          5.01,
          5.01,
          5.03,
          5.04,
          5.07,
          5.09,
          5.12,
          5.14,
          5.15,
          5.17,
          5.2,
          5.23,
          5.26,
          5.26,
          5.28,
          5.29,
          5.31,
          5.34,
          5.34,
          5.36,
          5.38,
          5.4,
          5.43,
          5.47,
          5.5,
          5.53,
          5.55,
          5.58,
          5.58,
          5.6,
          5.63,
          5.63,
          5.65,
          5.67,
          5.68,
          5.7,
          5.74,
          5.74,
          5.76,
          5.78,
          5.81,
          5.82,
          5.83,
          5.85,
          5.86,
          5.87,
          5.89,
          5.9,
          5.92,
          5.95,
          5.97,
          5.99,
          6.03,
          6.05,
          6.08,
          6.09,
          6.13,
          6.16,
          6.17,
          6.2,
          6.23,
          6.24,
          6.27,
          6.31,
          6.36,
          6.41,
          6.41,
          6.43,
          6.44,
          6.44,
          6.47,
          6.51,
          6.52,
          6.54,
          6.57,
          6.62,
          6.64,
          6.65,
          6.67,
          6.71,
          6.73,
          6.75,
          6.79,
          6.8,
          6.81,
          6.83,
          6.86,
          6.88,
          6.89,
          6.92,
          6.93,
          6.94,
          6.96,
          6.99,
          7.01,
          7.02,
          7.06,
          7.06,
          7.07,
          7.08,
          7.1,
          7.11,
          7.12,
          7.13,
          7.15,
          7.15,
          7.16,
          7.17,
          7.19,
          7.2,
          7.22,
          7.24,
          7.27,
          7.28,
          7.29,
          7.32,
          7.35,
          7.37,
          7.37,
          7.4,
          7.42,
          7.44,
          7.46,
          7.46,
          7.48,
          7.5,
          7.52,
          7.54,
          7.54,
          7.56,
          7.57,
          7.59,
          7.6,
          7.6,
          7.62,
          7.63,
          7.63,
          7.65,
          7.66,
          7.68,
          7.69,
          7.7,
          7.71,
          7.72,
          7.74,
          7.75,
          7.76,
          7.77,
          7.78,
          7.79,
          7.8,
          7.81,
          7.82,
          7.83,
          7.83,
          7.83,
          7.84,
          7.85,
          7.86,
          7.87,
          7.88,
          7.88,
          7.89,
          7.9,
          7.91,
          7.91,
          7.92,
          7.93,
          7.93,
          7.94,
          7.94,
          7.95,
          7.96,
          7.96,
          7.97,
          7.97,
          7.97,
          7.98,
          7.98,
          7.99,
          8,
          8.01,
          8.02,
          8.03,
          8.04,
          8.05,
          8.05,
          8.06,
          8.06,
          8.07,
          8.08,
          8.14
         ],
         "yaxis": "y"
        },
        {
         "hovertemplate": "Data=13/01/2021<br>Dias Corridos=%{x}<br>DI x pré 252=%{y}<extra></extra>",
         "legendgroup": "13/01/2021",
         "line": {
          "color": "yellow",
          "dash": "solid"
         },
         "marker": {
          "symbol": "circle"
         },
         "mode": "lines",
         "name": "13/01/2021",
         "showlegend": true,
         "type": "scattergl",
         "x": [
          1,
          2,
          5,
          7,
          14,
          15,
          16,
          19,
          21,
          30,
          35,
          43,
          44,
          47,
          58,
          61,
          63,
          64,
          65,
          69,
          77,
          78,
          90,
          91,
          92,
          106,
          107,
          110,
          120,
          124,
          128,
          135,
          138,
          139,
          149,
          152,
          153,
          154,
          155,
          156,
          167,
          168,
          169,
          180,
          183,
          190,
          197,
          198,
          201,
          210,
          215,
          217,
          229,
          230,
          231,
          240,
          245,
          247,
          252,
          260,
          261,
          271,
          273,
          275,
          288,
          289,
          292,
          300,
          307,
          321,
          322,
          330,
          335,
          336,
          342,
          350,
          351,
          355,
          362,
          369,
          390,
          398,
          399,
          413,
          420,
          426,
          443,
          450,
          455,
          460,
          481,
          488,
          510,
          518,
          534,
          540,
          546,
          548,
          572,
          579,
          581,
          596,
          600,
          610,
          617,
          628,
          630,
          638,
          642,
          660,
          672,
          691,
          700,
          707,
          719,
          720,
          733,
          750,
          763,
          777,
          782,
          791,
          810,
          824,
          840,
          852,
          870,
          883,
          901,
          915,
          930,
          944,
          960,
          961,
          992,
          1006,
          1020,
          1037,
          1050,
          1080,
          1084,
          1111,
          1128,
          1140,
          1170,
          1174,
          1188,
          1202,
          1218,
          1265,
          1310,
          1357,
          1366,
          1405,
          1440,
          1450,
          1496,
          1539,
          1570,
          1583,
          1630,
          1675,
          1722,
          1769,
          1800,
          1815,
          1862,
          1948,
          1995,
          2042,
          2133,
          2161,
          2182,
          2224,
          2315,
          2360,
          2406,
          2498,
          2520,
          2546,
          2589,
          2679,
          2728,
          2771,
          2864,
          2882,
          2911,
          2955,
          3044,
          3092,
          3122,
          3136,
          3229,
          3240,
          3276,
          3320,
          3365,
          3409,
          3456,
          3501,
          3596,
          3600,
          3641,
          3687,
          3774,
          3866,
          3960,
          4051,
          4142,
          4233,
          4320,
          4325,
          4373,
          4416,
          4506,
          4597,
          4681,
          4690,
          4781,
          4870,
          4962,
          5040,
          5055,
          5102,
          5146,
          5235,
          5327,
          5402,
          5420,
          5511,
          5580,
          5601,
          5693,
          5787,
          5880,
          5966,
          6060,
          6151,
          6242,
          6333,
          6424,
          6516,
          6607,
          6697,
          6788,
          6881,
          6972,
          7062,
          7154,
          7201,
          7247,
          7338,
          7427,
          7519,
          7614,
          7707,
          7792,
          7884,
          7978,
          8069,
          8157,
          8251,
          8342,
          8433,
          8524,
          8615,
          8708,
          8799,
          8888,
          8980,
          9000,
          9164,
          9345,
          9529,
          9710,
          9898,
          10078,
          10260,
          10442,
          10625,
          10800,
          10806,
          12542
         ],
         "xaxis": "x",
         "y": [
          1.9,
          1.91,
          1.91,
          1.91,
          1.91,
          1.91,
          1.91,
          1.91,
          1.92,
          1.92,
          1.92,
          1.92,
          1.92,
          1.92,
          1.94,
          1.95,
          1.95,
          1.95,
          1.95,
          1.95,
          1.96,
          1.96,
          2,
          2,
          2,
          2.03,
          2.04,
          2.04,
          2.08,
          2.09,
          2.11,
          2.13,
          2.13,
          2.13,
          2.19,
          2.19,
          2.2,
          2.21,
          2.21,
          2.22,
          2.26,
          2.27,
          2.28,
          2.32,
          2.34,
          2.37,
          2.39,
          2.4,
          2.4,
          2.48,
          2.5,
          2.52,
          2.59,
          2.6,
          2.61,
          2.66,
          2.69,
          2.71,
          2.73,
          2.78,
          2.79,
          2.83,
          2.84,
          2.86,
          2.92,
          2.93,
          2.93,
          2.98,
          3.01,
          3.08,
          3.09,
          3.13,
          3.16,
          3.16,
          3.19,
          3.24,
          3.24,
          3.26,
          3.3,
          3.35,
          3.48,
          3.53,
          3.54,
          3.6,
          3.63,
          3.66,
          3.75,
          3.79,
          3.82,
          3.84,
          3.96,
          4,
          4.12,
          4.17,
          4.24,
          4.27,
          4.3,
          4.32,
          4.43,
          4.46,
          4.48,
          4.55,
          4.56,
          4.6,
          4.63,
          4.67,
          4.68,
          4.72,
          4.73,
          4.81,
          4.85,
          4.93,
          4.97,
          4.99,
          5.04,
          5.04,
          5.09,
          5.15,
          5.19,
          5.23,
          5.24,
          5.28,
          5.33,
          5.38,
          5.42,
          5.46,
          5.52,
          5.56,
          5.61,
          5.65,
          5.69,
          5.73,
          5.77,
          5.77,
          5.84,
          5.87,
          5.91,
          5.94,
          5.97,
          6.03,
          6.04,
          6.09,
          6.13,
          6.15,
          6.21,
          6.21,
          6.24,
          6.26,
          6.29,
          6.36,
          6.43,
          6.49,
          6.5,
          6.55,
          6.59,
          6.6,
          6.66,
          6.71,
          6.73,
          6.74,
          6.77,
          6.83,
          6.88,
          6.92,
          6.94,
          6.95,
          7,
          7.08,
          7.12,
          7.16,
          7.24,
          7.27,
          7.28,
          7.31,
          7.37,
          7.39,
          7.42,
          7.47,
          7.48,
          7.5,
          7.52,
          7.57,
          7.6,
          7.62,
          7.67,
          7.68,
          7.69,
          7.71,
          7.75,
          7.77,
          7.79,
          7.79,
          7.83,
          7.83,
          7.85,
          7.86,
          7.88,
          7.9,
          7.91,
          7.93,
          7.96,
          7.96,
          7.98,
          7.99,
          8.02,
          8.04,
          8.07,
          8.09,
          8.11,
          8.14,
          8.16,
          8.16,
          8.17,
          8.18,
          8.2,
          8.22,
          8.23,
          8.23,
          8.25,
          8.27,
          8.28,
          8.3,
          8.3,
          8.31,
          8.31,
          8.33,
          8.34,
          8.35,
          8.36,
          8.37,
          8.38,
          8.38,
          8.39,
          8.41,
          8.42,
          8.43,
          8.44,
          8.45,
          8.46,
          8.47,
          8.48,
          8.49,
          8.5,
          8.51,
          8.51,
          8.52,
          8.53,
          8.54,
          8.55,
          8.55,
          8.55,
          8.56,
          8.57,
          8.58,
          8.58,
          8.59,
          8.6,
          8.6,
          8.61,
          8.61,
          8.62,
          8.63,
          8.63,
          8.64,
          8.64,
          8.65,
          8.65,
          8.66,
          8.66,
          8.67,
          8.67,
          8.68,
          8.69,
          8.7,
          8.7,
          8.71,
          8.72,
          8.73,
          8.74,
          8.74,
          8.75,
          8.75,
          8.8
         ],
         "yaxis": "y"
        },
        {
         "hovertemplate": "Data=13/01/2022<br>Dias Corridos=%{x}<br>DI x pré 252=%{y}<extra></extra>",
         "legendgroup": "13/01/2022",
         "line": {
          "color": "blue",
          "dash": "solid"
         },
         "marker": {
          "symbol": "circle"
         },
         "mode": "lines",
         "name": "13/01/2022",
         "showlegend": true,
         "type": "scattergl",
         "x": [
          1,
          4,
          7,
          8,
          14,
          15,
          18,
          19,
          21,
          32,
          33,
          34,
          36,
          42,
          43,
          48,
          57,
          60,
          61,
          63,
          64,
          69,
          77,
          78,
          90,
          95,
          105,
          106,
          109,
          120,
          123,
          130,
          138,
          139,
          148,
          151,
          153,
          155,
          167,
          168,
          169,
          180,
          181,
          183,
          189,
          196,
          197,
          200,
          210,
          214,
          216,
          229,
          230,
          231,
          242,
          245,
          246,
          252,
          260,
          263,
          270,
          273,
          277,
          288,
          291,
          292,
          300,
          307,
          321,
          322,
          330,
          335,
          337,
          342,
          349,
          350,
          354,
          361,
          368,
          390,
          398,
          399,
          410,
          411,
          412,
          420,
          426,
          434,
          442,
          445,
          452,
          454,
          459,
          469,
          480,
          487,
          510,
          517,
          518,
          532,
          536,
          540,
          550,
          571,
          579,
          580,
          596,
          600,
          610,
          616,
          627,
          630,
          641,
          643,
          662,
          672,
          690,
          699,
          705,
          719,
          720,
          732,
          750,
          762,
          763,
          781,
          809,
          810,
          823,
          840,
          853,
          872,
          900,
          930,
          945,
          960,
          991,
          992,
          1001,
          1020,
          1040,
          1050,
          1082,
          1085,
          1110,
          1131,
          1140,
          1170,
          1174,
          1201,
          1205,
          1218,
          1265,
          1310,
          1357,
          1404,
          1440,
          1450,
          1497,
          1539,
          1583,
          1630,
          1677,
          1722,
          1768,
          1800,
          1817,
          1859,
          1950,
          1995,
          2041,
          2133,
          2160,
          2181,
          2224,
          2314,
          2363,
          2406,
          2499,
          2520,
          2546,
          2590,
          2679,
          2727,
          2757,
          2771,
          2864,
          2881,
          2911,
          2955,
          3000,
          3044,
          3091,
          3136,
          3231,
          3240,
          3276,
          3322,
          3409,
          3501,
          3595,
          3602,
          3686,
          3777,
          3868,
          3960,
          4008,
          4051,
          4141,
          4232,
          4320,
          4325,
          4416,
          4505,
          4597,
          4680,
          4690,
          4737,
          4781,
          4870,
          4962,
          5040,
          5055,
          5102,
          5146,
          5236,
          5328,
          5401,
          5422,
          5468,
          5515,
          5580,
          5601,
          5695,
          5786,
          5877,
          5968,
          6059,
          6151,
          6242,
          6332,
          6423,
          6516,
          6607,
          6697,
          6789,
          6882,
          6973,
          7062,
          7154,
          7200,
          7249,
          7342,
          7427,
          7519,
          7613,
          7704,
          7792,
          7886,
          7977,
          8068,
          8159,
          8250,
          8343,
          8434,
          8523,
          8615,
          8799,
          8980,
          9000,
          9164,
          9345,
          9533,
          9713,
          9895,
          10077,
          10260,
          10441,
          10800,
          12177,
          14095
         ],
         "xaxis": "x",
         "y": [
          9.15,
          9.15,
          9.16,
          9.16,
          9.16,
          9.16,
          9.16,
          9.16,
          9.33,
          9.7,
          9.74,
          9.77,
          9.82,
          9.91,
          9.93,
          9.95,
          10.19,
          10.22,
          10.24,
          10.29,
          10.31,
          10.37,
          10.48,
          10.49,
          10.67,
          10.71,
          10.83,
          10.85,
          10.86,
          11.02,
          11.03,
          11.1,
          11.18,
          11.19,
          11.27,
          11.29,
          11.31,
          11.32,
          11.4,
          11.41,
          11.42,
          11.47,
          11.48,
          11.49,
          11.52,
          11.55,
          11.56,
          11.56,
          11.62,
          11.64,
          11.65,
          11.71,
          11.71,
          11.72,
          11.74,
          11.75,
          11.75,
          11.76,
          11.78,
          11.78,
          11.8,
          11.81,
          11.82,
          11.86,
          11.86,
          11.87,
          11.88,
          11.89,
          11.9,
          11.9,
          11.91,
          11.91,
          11.91,
          11.91,
          11.91,
          11.91,
          11.92,
          11.92,
          11.92,
          11.92,
          11.92,
          11.92,
          11.92,
          11.92,
          11.92,
          11.92,
          11.92,
          11.92,
          11.93,
          11.93,
          11.92,
          11.92,
          11.92,
          11.92,
          11.92,
          11.91,
          11.91,
          11.91,
          11.9,
          11.9,
          11.9,
          11.89,
          11.87,
          11.84,
          11.82,
          11.82,
          11.79,
          11.79,
          11.77,
          11.76,
          11.75,
          11.74,
          11.72,
          11.71,
          11.68,
          11.66,
          11.62,
          11.6,
          11.59,
          11.57,
          11.57,
          11.56,
          11.54,
          11.54,
          11.54,
          11.52,
          11.5,
          11.5,
          11.48,
          11.46,
          11.44,
          11.42,
          11.38,
          11.35,
          11.33,
          11.32,
          11.29,
          11.29,
          11.27,
          11.25,
          11.23,
          11.22,
          11.18,
          11.18,
          11.17,
          11.16,
          11.16,
          11.15,
          11.15,
          11.13,
          11.13,
          11.12,
          11.09,
          11.12,
          11.14,
          11.11,
          11.08,
          11.08,
          11.09,
          11.11,
          11.1,
          11.08,
          11.12,
          11.15,
          11.14,
          11.14,
          11.14,
          11.14,
          11.15,
          11.16,
          11.16,
          11.17,
          11.18,
          11.18,
          11.19,
          11.2,
          11.21,
          11.22,
          11.23,
          11.24,
          11.24,
          11.24,
          11.25,
          11.26,
          11.26,
          11.26,
          11.27,
          11.27,
          11.27,
          11.27,
          11.27,
          11.27,
          11.28,
          11.28,
          11.28,
          11.28,
          11.28,
          11.28,
          11.28,
          11.29,
          11.29,
          11.29,
          11.29,
          11.3,
          11.3,
          11.3,
          11.3,
          11.3,
          11.3,
          11.29,
          11.29,
          11.29,
          11.29,
          11.29,
          11.29,
          11.29,
          11.29,
          11.28,
          11.29,
          11.29,
          11.29,
          11.3,
          11.3,
          11.3,
          11.31,
          11.33,
          11.35,
          11.36,
          11.37,
          11.38,
          11.39,
          11.4,
          11.4,
          11.42,
          11.44,
          11.45,
          11.47,
          11.48,
          11.5,
          11.51,
          11.53,
          11.54,
          11.55,
          11.56,
          11.58,
          11.59,
          11.6,
          11.61,
          11.62,
          11.63,
          11.64,
          11.64,
          11.65,
          11.66,
          11.67,
          11.68,
          11.69,
          11.7,
          11.71,
          11.72,
          11.73,
          11.73,
          11.74,
          11.75,
          11.76,
          11.77,
          11.77,
          11.79,
          11.8,
          11.8,
          11.81,
          11.83,
          11.84,
          11.85,
          11.86,
          11.87,
          11.88,
          11.89,
          11.91,
          11.97,
          12.04
         ],
         "yaxis": "y"
        },
        {
         "hovertemplate": "Data=13/01/2023<br>Dias Corridos=%{x}<br>DI x pré 252=%{y}<extra></extra>",
         "legendgroup": "13/01/2023",
         "line": {
          "color": "black",
          "dash": "solid"
         },
         "marker": {
          "symbol": "circle"
         },
         "mode": "lines",
         "name": "13/01/2023",
         "showlegend": true,
         "type": "scattergl",
         "x": [
          3,
          5,
          7,
          14,
          17,
          18,
          19,
          21,
          31,
          33,
          34,
          35,
          45,
          46,
          47,
          56,
          60,
          61,
          62,
          63,
          69,
          77,
          80,
          89,
          90,
          94,
          97,
          104,
          105,
          109,
          122,
          130,
          138,
          139,
          147,
          150,
          152,
          153,
          154,
          167,
          168,
          171,
          180,
          185,
          189,
          196,
          199,
          200,
          210,
          214,
          215,
          229,
          230,
          231,
          241,
          245,
          251,
          259,
          262,
          270,
          276,
          278,
          290,
          291,
          292,
          300,
          307,
          321,
          322,
          332,
          334,
          335,
          340,
          348,
          349,
          354,
          360,
          367,
          390,
          397,
          398,
          399,
          420,
          425,
          432,
          444,
          451,
          458,
          460,
          472,
          480,
          488,
          495,
          510,
          516,
          535,
          542,
          570,
          579,
          580,
          600,
          612,
          627,
          630,
          636,
          642,
          661,
          675,
          690,
          705,
          720,
          752,
          766,
          782,
          809,
          810,
          840,
          853,
          871,
          900,
          930,
          945,
          962,
          990,
          992,
          1020,
          1039,
          1050,
          1081,
          1085,
          1110,
          1132,
          1140,
          1172,
          1174,
          1200,
          1218,
          1265,
          1312,
          1357,
          1403,
          1440,
          1452,
          1494,
          1539,
          1585,
          1630,
          1676,
          1722,
          1768,
          1802,
          1816,
          1859,
          1949,
          1998,
          2041,
          2134,
          2160,
          2181,
          2225,
          2314,
          2362,
          2392,
          2406,
          2499,
          2520,
          2546,
          2590,
          2635,
          2679,
          2726,
          2771,
          2866,
          2880,
          2911,
          2957,
          3044,
          3136,
          3230,
          3240,
          3276,
          3321,
          3412,
          3503,
          3595,
          3601,
          3643,
          3686,
          3776,
          3867,
          3960,
          4007,
          4051,
          4140,
          4232,
          4322,
          4325,
          4372,
          4416,
          4505,
          4597,
          4680,
          4690,
          4737,
          4781,
          4871,
          4963,
          5040,
          5057,
          5103,
          5150,
          5236,
          5330,
          5400,
          5421,
          5470,
          5512,
          5582,
          5603,
          5694,
          5786,
          5877,
          5967,
          6058,
          6151,
          6242,
          6332,
          6424,
          6517,
          6608,
          6697,
          6789,
          6884,
          6977,
          7062,
          7154,
          7200,
          7248,
          7339,
          7427,
          7521,
          7612,
          7703,
          7794,
          7885,
          7978,
          8069,
          8158,
          8250,
          8434,
          8615,
          8799,
          8980,
          9000,
          9168,
          9348,
          9530,
          9712,
          9895,
          10076,
          10800,
          11812,
          13730
         ],
         "xaxis": "x",
         "y": [
          13.65,
          13.65,
          13.65,
          13.66,
          13.66,
          13.66,
          13.66,
          13.66,
          13.66,
          13.66,
          13.66,
          13.66,
          13.66,
          13.66,
          13.66,
          13.67,
          13.67,
          13.67,
          13.67,
          13.67,
          13.68,
          13.68,
          13.68,
          13.69,
          13.69,
          13.69,
          13.69,
          13.69,
          13.69,
          13.69,
          13.7,
          13.7,
          13.7,
          13.7,
          13.7,
          13.7,
          13.7,
          13.7,
          13.7,
          13.7,
          13.7,
          13.7,
          13.7,
          13.71,
          13.71,
          13.71,
          13.71,
          13.71,
          13.7,
          13.69,
          13.69,
          13.67,
          13.67,
          13.67,
          13.66,
          13.65,
          13.64,
          13.63,
          13.63,
          13.62,
          13.62,
          13.62,
          13.61,
          13.61,
          13.61,
          13.58,
          13.57,
          13.53,
          13.52,
          13.5,
          13.49,
          13.48,
          13.47,
          13.45,
          13.45,
          13.44,
          13.42,
          13.4,
          13.33,
          13.32,
          13.31,
          13.31,
          13.25,
          13.24,
          13.23,
          13.2,
          13.18,
          13.15,
          13.14,
          13.1,
          13.07,
          13.04,
          13.02,
          12.98,
          12.96,
          12.91,
          12.88,
          12.79,
          12.76,
          12.76,
          12.7,
          12.67,
          12.63,
          12.62,
          12.6,
          12.59,
          12.54,
          12.51,
          12.47,
          12.44,
          12.41,
          12.38,
          12.36,
          12.35,
          12.32,
          12.32,
          12.3,
          12.29,
          12.28,
          12.26,
          12.26,
          12.26,
          12.26,
          12.26,
          12.26,
          12.25,
          12.24,
          12.24,
          12.23,
          12.23,
          12.23,
          12.22,
          12.22,
          12.22,
          12.22,
          12.22,
          12.23,
          12.24,
          12.22,
          12.21,
          12.21,
          12.2,
          12.2,
          12.2,
          12.2,
          12.21,
          12.21,
          12.21,
          12.21,
          12.22,
          12.22,
          12.22,
          12.23,
          12.25,
          12.27,
          12.27,
          12.29,
          12.3,
          12.3,
          12.31,
          12.31,
          12.31,
          12.32,
          12.32,
          12.32,
          12.32,
          12.32,
          12.33,
          12.33,
          12.33,
          12.34,
          12.34,
          12.34,
          12.35,
          12.35,
          12.34,
          12.34,
          12.34,
          12.33,
          12.33,
          12.33,
          12.33,
          12.34,
          12.34,
          12.35,
          12.35,
          12.35,
          12.35,
          12.35,
          12.34,
          12.33,
          12.33,
          12.33,
          12.33,
          12.34,
          12.34,
          12.34,
          12.34,
          12.34,
          12.35,
          12.36,
          12.37,
          12.37,
          12.38,
          12.38,
          12.38,
          12.38,
          12.38,
          12.38,
          12.39,
          12.39,
          12.39,
          12.39,
          12.39,
          12.39,
          12.39,
          12.39,
          12.39,
          12.39,
          12.39,
          12.39,
          12.39,
          12.39,
          12.39,
          12.39,
          12.39,
          12.39,
          12.39,
          12.39,
          12.39,
          12.39,
          12.39,
          12.39,
          12.39,
          12.39,
          12.39,
          12.39,
          12.39,
          12.39,
          12.39,
          12.39,
          12.39,
          12.39,
          12.39,
          12.39,
          12.39,
          12.39,
          12.39,
          12.39,
          12.39,
          12.39,
          12.39,
          12.39,
          12.39,
          12.39,
          12.39,
          12.39,
          12.39,
          12.39,
          12.39,
          12.39,
          12.39,
          12.39
         ],
         "yaxis": "y"
        }
       ],
       "layout": {
        "legend": {
         "title": {
          "text": "Data"
         },
         "tracegroupgap": 0
        },
        "margin": {
         "t": 60
        },
        "template": {
         "data": {
          "bar": [
           {
            "error_x": {
             "color": "#2a3f5f"
            },
            "error_y": {
             "color": "#2a3f5f"
            },
            "marker": {
             "line": {
              "color": "#E5ECF6",
              "width": 0.5
             },
             "pattern": {
              "fillmode": "overlay",
              "size": 10,
              "solidity": 0.2
             }
            },
            "type": "bar"
           }
          ],
          "barpolar": [
           {
            "marker": {
             "line": {
              "color": "#E5ECF6",
              "width": 0.5
             },
             "pattern": {
              "fillmode": "overlay",
              "size": 10,
              "solidity": 0.2
             }
            },
            "type": "barpolar"
           }
          ],
          "carpet": [
           {
            "aaxis": {
             "endlinecolor": "#2a3f5f",
             "gridcolor": "white",
             "linecolor": "white",
             "minorgridcolor": "white",
             "startlinecolor": "#2a3f5f"
            },
            "baxis": {
             "endlinecolor": "#2a3f5f",
             "gridcolor": "white",
             "linecolor": "white",
             "minorgridcolor": "white",
             "startlinecolor": "#2a3f5f"
            },
            "type": "carpet"
           }
          ],
          "choropleth": [
           {
            "colorbar": {
             "outlinewidth": 0,
             "ticks": ""
            },
            "type": "choropleth"
           }
          ],
          "contour": [
           {
            "colorbar": {
             "outlinewidth": 0,
             "ticks": ""
            },
            "colorscale": [
             [
              0,
              "#0d0887"
             ],
             [
              0.1111111111111111,
              "#46039f"
             ],
             [
              0.2222222222222222,
              "#7201a8"
             ],
             [
              0.3333333333333333,
              "#9c179e"
             ],
             [
              0.4444444444444444,
              "#bd3786"
             ],
             [
              0.5555555555555556,
              "#d8576b"
             ],
             [
              0.6666666666666666,
              "#ed7953"
             ],
             [
              0.7777777777777778,
              "#fb9f3a"
             ],
             [
              0.8888888888888888,
              "#fdca26"
             ],
             [
              1,
              "#f0f921"
             ]
            ],
            "type": "contour"
           }
          ],
          "contourcarpet": [
           {
            "colorbar": {
             "outlinewidth": 0,
             "ticks": ""
            },
            "type": "contourcarpet"
           }
          ],
          "heatmap": [
           {
            "colorbar": {
             "outlinewidth": 0,
             "ticks": ""
            },
            "colorscale": [
             [
              0,
              "#0d0887"
             ],
             [
              0.1111111111111111,
              "#46039f"
             ],
             [
              0.2222222222222222,
              "#7201a8"
             ],
             [
              0.3333333333333333,
              "#9c179e"
             ],
             [
              0.4444444444444444,
              "#bd3786"
             ],
             [
              0.5555555555555556,
              "#d8576b"
             ],
             [
              0.6666666666666666,
              "#ed7953"
             ],
             [
              0.7777777777777778,
              "#fb9f3a"
             ],
             [
              0.8888888888888888,
              "#fdca26"
             ],
             [
              1,
              "#f0f921"
             ]
            ],
            "type": "heatmap"
           }
          ],
          "heatmapgl": [
           {
            "colorbar": {
             "outlinewidth": 0,
             "ticks": ""
            },
            "colorscale": [
             [
              0,
              "#0d0887"
             ],
             [
              0.1111111111111111,
              "#46039f"
             ],
             [
              0.2222222222222222,
              "#7201a8"
             ],
             [
              0.3333333333333333,
              "#9c179e"
             ],
             [
              0.4444444444444444,
              "#bd3786"
             ],
             [
              0.5555555555555556,
              "#d8576b"
             ],
             [
              0.6666666666666666,
              "#ed7953"
             ],
             [
              0.7777777777777778,
              "#fb9f3a"
             ],
             [
              0.8888888888888888,
              "#fdca26"
             ],
             [
              1,
              "#f0f921"
             ]
            ],
            "type": "heatmapgl"
           }
          ],
          "histogram": [
           {
            "marker": {
             "pattern": {
              "fillmode": "overlay",
              "size": 10,
              "solidity": 0.2
             }
            },
            "type": "histogram"
           }
          ],
          "histogram2d": [
           {
            "colorbar": {
             "outlinewidth": 0,
             "ticks": ""
            },
            "colorscale": [
             [
              0,
              "#0d0887"
             ],
             [
              0.1111111111111111,
              "#46039f"
             ],
             [
              0.2222222222222222,
              "#7201a8"
             ],
             [
              0.3333333333333333,
              "#9c179e"
             ],
             [
              0.4444444444444444,
              "#bd3786"
             ],
             [
              0.5555555555555556,
              "#d8576b"
             ],
             [
              0.6666666666666666,
              "#ed7953"
             ],
             [
              0.7777777777777778,
              "#fb9f3a"
             ],
             [
              0.8888888888888888,
              "#fdca26"
             ],
             [
              1,
              "#f0f921"
             ]
            ],
            "type": "histogram2d"
           }
          ],
          "histogram2dcontour": [
           {
            "colorbar": {
             "outlinewidth": 0,
             "ticks": ""
            },
            "colorscale": [
             [
              0,
              "#0d0887"
             ],
             [
              0.1111111111111111,
              "#46039f"
             ],
             [
              0.2222222222222222,
              "#7201a8"
             ],
             [
              0.3333333333333333,
              "#9c179e"
             ],
             [
              0.4444444444444444,
              "#bd3786"
             ],
             [
              0.5555555555555556,
              "#d8576b"
             ],
             [
              0.6666666666666666,
              "#ed7953"
             ],
             [
              0.7777777777777778,
              "#fb9f3a"
             ],
             [
              0.8888888888888888,
              "#fdca26"
             ],
             [
              1,
              "#f0f921"
             ]
            ],
            "type": "histogram2dcontour"
           }
          ],
          "mesh3d": [
           {
            "colorbar": {
             "outlinewidth": 0,
             "ticks": ""
            },
            "type": "mesh3d"
           }
          ],
          "parcoords": [
           {
            "line": {
             "colorbar": {
              "outlinewidth": 0,
              "ticks": ""
             }
            },
            "type": "parcoords"
           }
          ],
          "pie": [
           {
            "automargin": true,
            "type": "pie"
           }
          ],
          "scatter": [
           {
            "fillpattern": {
             "fillmode": "overlay",
             "size": 10,
             "solidity": 0.2
            },
            "type": "scatter"
           }
          ],
          "scatter3d": [
           {
            "line": {
             "colorbar": {
              "outlinewidth": 0,
              "ticks": ""
             }
            },
            "marker": {
             "colorbar": {
              "outlinewidth": 0,
              "ticks": ""
             }
            },
            "type": "scatter3d"
           }
          ],
          "scattercarpet": [
           {
            "marker": {
             "colorbar": {
              "outlinewidth": 0,
              "ticks": ""
             }
            },
            "type": "scattercarpet"
           }
          ],
          "scattergeo": [
           {
            "marker": {
             "colorbar": {
              "outlinewidth": 0,
              "ticks": ""
             }
            },
            "type": "scattergeo"
           }
          ],
          "scattergl": [
           {
            "marker": {
             "colorbar": {
              "outlinewidth": 0,
              "ticks": ""
             }
            },
            "type": "scattergl"
           }
          ],
          "scattermapbox": [
           {
            "marker": {
             "colorbar": {
              "outlinewidth": 0,
              "ticks": ""
             }
            },
            "type": "scattermapbox"
           }
          ],
          "scatterpolar": [
           {
            "marker": {
             "colorbar": {
              "outlinewidth": 0,
              "ticks": ""
             }
            },
            "type": "scatterpolar"
           }
          ],
          "scatterpolargl": [
           {
            "marker": {
             "colorbar": {
              "outlinewidth": 0,
              "ticks": ""
             }
            },
            "type": "scatterpolargl"
           }
          ],
          "scatterternary": [
           {
            "marker": {
             "colorbar": {
              "outlinewidth": 0,
              "ticks": ""
             }
            },
            "type": "scatterternary"
           }
          ],
          "surface": [
           {
            "colorbar": {
             "outlinewidth": 0,
             "ticks": ""
            },
            "colorscale": [
             [
              0,
              "#0d0887"
             ],
             [
              0.1111111111111111,
              "#46039f"
             ],
             [
              0.2222222222222222,
              "#7201a8"
             ],
             [
              0.3333333333333333,
              "#9c179e"
             ],
             [
              0.4444444444444444,
              "#bd3786"
             ],
             [
              0.5555555555555556,
              "#d8576b"
             ],
             [
              0.6666666666666666,
              "#ed7953"
             ],
             [
              0.7777777777777778,
              "#fb9f3a"
             ],
             [
              0.8888888888888888,
              "#fdca26"
             ],
             [
              1,
              "#f0f921"
             ]
            ],
            "type": "surface"
           }
          ],
          "table": [
           {
            "cells": {
             "fill": {
              "color": "#EBF0F8"
             },
             "line": {
              "color": "white"
             }
            },
            "header": {
             "fill": {
              "color": "#C8D4E3"
             },
             "line": {
              "color": "white"
             }
            },
            "type": "table"
           }
          ]
         },
         "layout": {
          "annotationdefaults": {
           "arrowcolor": "#2a3f5f",
           "arrowhead": 0,
           "arrowwidth": 1
          },
          "autotypenumbers": "strict",
          "coloraxis": {
           "colorbar": {
            "outlinewidth": 0,
            "ticks": ""
           }
          },
          "colorscale": {
           "diverging": [
            [
             0,
             "#8e0152"
            ],
            [
             0.1,
             "#c51b7d"
            ],
            [
             0.2,
             "#de77ae"
            ],
            [
             0.3,
             "#f1b6da"
            ],
            [
             0.4,
             "#fde0ef"
            ],
            [
             0.5,
             "#f7f7f7"
            ],
            [
             0.6,
             "#e6f5d0"
            ],
            [
             0.7,
             "#b8e186"
            ],
            [
             0.8,
             "#7fbc41"
            ],
            [
             0.9,
             "#4d9221"
            ],
            [
             1,
             "#276419"
            ]
           ],
           "sequential": [
            [
             0,
             "#0d0887"
            ],
            [
             0.1111111111111111,
             "#46039f"
            ],
            [
             0.2222222222222222,
             "#7201a8"
            ],
            [
             0.3333333333333333,
             "#9c179e"
            ],
            [
             0.4444444444444444,
             "#bd3786"
            ],
            [
             0.5555555555555556,
             "#d8576b"
            ],
            [
             0.6666666666666666,
             "#ed7953"
            ],
            [
             0.7777777777777778,
             "#fb9f3a"
            ],
            [
             0.8888888888888888,
             "#fdca26"
            ],
            [
             1,
             "#f0f921"
            ]
           ],
           "sequentialminus": [
            [
             0,
             "#0d0887"
            ],
            [
             0.1111111111111111,
             "#46039f"
            ],
            [
             0.2222222222222222,
             "#7201a8"
            ],
            [
             0.3333333333333333,
             "#9c179e"
            ],
            [
             0.4444444444444444,
             "#bd3786"
            ],
            [
             0.5555555555555556,
             "#d8576b"
            ],
            [
             0.6666666666666666,
             "#ed7953"
            ],
            [
             0.7777777777777778,
             "#fb9f3a"
            ],
            [
             0.8888888888888888,
             "#fdca26"
            ],
            [
             1,
             "#f0f921"
            ]
           ]
          },
          "colorway": [
           "#636efa",
           "#EF553B",
           "#00cc96",
           "#ab63fa",
           "#FFA15A",
           "#19d3f3",
           "#FF6692",
           "#B6E880",
           "#FF97FF",
           "#FECB52"
          ],
          "font": {
           "color": "#2a3f5f"
          },
          "geo": {
           "bgcolor": "white",
           "lakecolor": "white",
           "landcolor": "#E5ECF6",
           "showlakes": true,
           "showland": true,
           "subunitcolor": "white"
          },
          "hoverlabel": {
           "align": "left"
          },
          "hovermode": "closest",
          "mapbox": {
           "style": "light"
          },
          "paper_bgcolor": "white",
          "plot_bgcolor": "#E5ECF6",
          "polar": {
           "angularaxis": {
            "gridcolor": "white",
            "linecolor": "white",
            "ticks": ""
           },
           "bgcolor": "#E5ECF6",
           "radialaxis": {
            "gridcolor": "white",
            "linecolor": "white",
            "ticks": ""
           }
          },
          "scene": {
           "xaxis": {
            "backgroundcolor": "#E5ECF6",
            "gridcolor": "white",
            "gridwidth": 2,
            "linecolor": "white",
            "showbackground": true,
            "ticks": "",
            "zerolinecolor": "white"
           },
           "yaxis": {
            "backgroundcolor": "#E5ECF6",
            "gridcolor": "white",
            "gridwidth": 2,
            "linecolor": "white",
            "showbackground": true,
            "ticks": "",
            "zerolinecolor": "white"
           },
           "zaxis": {
            "backgroundcolor": "#E5ECF6",
            "gridcolor": "white",
            "gridwidth": 2,
            "linecolor": "white",
            "showbackground": true,
            "ticks": "",
            "zerolinecolor": "white"
           }
          },
          "shapedefaults": {
           "line": {
            "color": "#2a3f5f"
           }
          },
          "ternary": {
           "aaxis": {
            "gridcolor": "white",
            "linecolor": "white",
            "ticks": ""
           },
           "baxis": {
            "gridcolor": "white",
            "linecolor": "white",
            "ticks": ""
           },
           "bgcolor": "#E5ECF6",
           "caxis": {
            "gridcolor": "white",
            "linecolor": "white",
            "ticks": ""
           }
          },
          "title": {
           "x": 0.05
          },
          "xaxis": {
           "automargin": true,
           "gridcolor": "white",
           "linecolor": "white",
           "ticks": "",
           "title": {
            "standoff": 15
           },
           "zerolinecolor": "white",
           "zerolinewidth": 2
          },
          "yaxis": {
           "automargin": true,
           "gridcolor": "white",
           "linecolor": "white",
           "ticks": "",
           "title": {
            "standoff": 15
           },
           "zerolinecolor": "white",
           "zerolinewidth": 2
          }
         }
        },
        "xaxis": {
         "anchor": "y",
         "domain": [
          0,
          1
         ],
         "title": {
          "text": "Dias Corridos"
         }
        },
        "yaxis": {
         "anchor": "x",
         "domain": [
          0,
          1
         ],
         "title": {
          "text": "DI x pré 252"
         }
        }
       }
      }
     },
     "metadata": {},
     "output_type": "display_data"
    }
   ],
   "source": [
    "color = ['green', 'yellow', 'blue', 'black']\n",
    "\n",
    "fig = px.line(df_pre_curves, x = 'Dias Corridos', y = 'DI x pré 252', color = 'Data', color_discrete_sequence = color)\n",
    "\n",
    "fig.show()"
   ]
  }
 ],
 "metadata": {
  "kernelspec": {
   "display_name": "Python 3",
   "language": "python",
   "name": "python3"
  },
  "language_info": {
   "codemirror_mode": {
    "name": "ipython",
    "version": 3
   },
   "file_extension": ".py",
   "mimetype": "text/x-python",
   "name": "python",
   "nbconvert_exporter": "python",
   "pygments_lexer": "ipython3",
   "version": "3.10.9"
  },
  "orig_nbformat": 4,
  "vscode": {
   "interpreter": {
    "hash": "76d7c06053c3456e5600312cec90888656fc0ed30c03d8425b9dac6e4fc8e014"
   }
  }
 },
 "nbformat": 4,
 "nbformat_minor": 2
}
